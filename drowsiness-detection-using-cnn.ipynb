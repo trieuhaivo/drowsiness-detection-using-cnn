{
 "cells": [
  {
   "cell_type": "code",
   "execution_count": 1,
   "id": "81c196cc",
   "metadata": {
    "_cell_guid": "b1076dfc-b9ad-4769-8c92-a6c4dae69d19",
    "_uuid": "8f2839f25d086af736a60e9eeb907d3b93b6e0e5",
    "execution": {
     "iopub.execute_input": "2022-12-06T19:04:02.541796Z",
     "iopub.status.busy": "2022-12-06T19:04:02.541039Z",
     "iopub.status.idle": "2022-12-06T19:04:13.477607Z",
     "shell.execute_reply": "2022-12-06T19:04:13.475597Z"
    },
    "papermill": {
     "duration": 10.950936,
     "end_time": "2022-12-06T19:04:13.481143",
     "exception": false,
     "start_time": "2022-12-06T19:04:02.530207",
     "status": "completed"
    },
    "tags": []
   },
   "outputs": [],
   "source": [
    "import numpy as np\n",
    "import cv2\n",
    "from tensorflow.keras.layers import Input, Conv2D, BatchNormalization, Dropout, Flatten, Dense, MaxPool2D\n",
    "from tensorflow.keras.models import Model, Sequential\n",
    "from tensorflow.keras.initializers import glorot_uniform\n",
    "from tensorflow.keras.optimizers import Adam, SGD\n",
    "import matplotlib.pyplot as plt\n",
    "from sklearn.metrics import classification_report\n",
    "from tensorflow.keras.preprocessing.image import ImageDataGenerator\n",
    "from sklearn.model_selection import train_test_split\n",
    "from tensorflow.keras.utils import to_categorical\n",
    "from sklearn.preprocessing import LabelEncoder\n",
    "from sklearn.metrics import classification_report, confusion_matrix\n",
    "import seaborn as sns\n",
    "from tensorflow.keras.regularizers import l2\n",
    "import tensorflow as tf\n",
    "import pandas as pd\n",
    "import dlib"
   ]
  },
  {
   "cell_type": "code",
   "execution_count": 2,
   "id": "a26ebf56",
   "metadata": {
    "execution": {
     "iopub.execute_input": "2022-12-06T19:04:13.499758Z",
     "iopub.status.busy": "2022-12-06T19:04:13.498878Z",
     "iopub.status.idle": "2022-12-06T19:04:30.940595Z",
     "shell.execute_reply": "2022-12-06T19:04:30.939136Z"
    },
    "papermill": {
     "duration": 17.454167,
     "end_time": "2022-12-06T19:04:30.943946",
     "exception": false,
     "start_time": "2022-12-06T19:04:13.489779",
     "status": "completed"
    },
    "tags": []
   },
   "outputs": [
    {
     "name": "stdout",
     "output_type": "stream",
     "text": [
      "Collecting imutils\r\n",
      "  Downloading imutils-0.5.4.tar.gz (17 kB)\r\n",
      "  Preparing metadata (setup.py) ... \u001b[?25l-\b \bdone\r\n",
      "\u001b[?25hBuilding wheels for collected packages: imutils\r\n",
      "  Building wheel for imutils (setup.py) ... \u001b[?25l-\b \b\\\b \b|\b \bdone\r\n",
      "\u001b[?25h  Created wheel for imutils: filename=imutils-0.5.4-py3-none-any.whl size=25858 sha256=2b4a346d8163348ea219d2485f13280b79313f15cd62d13e11536e690ee74b61\r\n",
      "  Stored in directory: /root/.cache/pip/wheels/86/d7/0a/4923351ed1cec5d5e24c1eaf8905567b02a0343b24aa873df2\r\n",
      "Successfully built imutils\r\n",
      "Installing collected packages: imutils\r\n",
      "Successfully installed imutils-0.5.4\r\n",
      "\u001b[33mWARNING: Running pip as the 'root' user can result in broken permissions and conflicting behaviour with the system package manager. It is recommended to use a virtual environment instead: https://pip.pypa.io/warnings/venv\u001b[0m\u001b[33m\r\n",
      "\u001b[0m"
     ]
    }
   ],
   "source": [
    "!pip install imutils"
   ]
  },
  {
   "cell_type": "code",
   "execution_count": 3,
   "id": "13298d70",
   "metadata": {
    "execution": {
     "iopub.execute_input": "2022-12-06T19:04:30.962791Z",
     "iopub.status.busy": "2022-12-06T19:04:30.962261Z",
     "iopub.status.idle": "2022-12-06T19:04:30.975164Z",
     "shell.execute_reply": "2022-12-06T19:04:30.973576Z"
    },
    "papermill": {
     "duration": 0.026195,
     "end_time": "2022-12-06T19:04:30.978455",
     "exception": false,
     "start_time": "2022-12-06T19:04:30.952260",
     "status": "completed"
    },
    "tags": []
   },
   "outputs": [],
   "source": [
    "import imutils\n",
    "from imutils.face_utils import FaceAligner\n",
    "from imutils.face_utils import rect_to_bb"
   ]
  },
  {
   "cell_type": "code",
   "execution_count": 4,
   "id": "1804d1de",
   "metadata": {
    "execution": {
     "iopub.execute_input": "2022-12-06T19:04:30.998430Z",
     "iopub.status.busy": "2022-12-06T19:04:30.997948Z",
     "iopub.status.idle": "2022-12-06T19:04:47.813240Z",
     "shell.execute_reply": "2022-12-06T19:04:47.811178Z"
    },
    "papermill": {
     "duration": 16.829273,
     "end_time": "2022-12-06T19:04:47.816931",
     "exception": false,
     "start_time": "2022-12-06T19:04:30.987658",
     "status": "completed"
    },
    "tags": []
   },
   "outputs": [
    {
     "name": "stdout",
     "output_type": "stream",
     "text": [
      "--2022-12-06 19:04:32--  https://cainvas-static.s3.amazonaws.com/media/user_data/Yuvnish17/driver_drowsiness_detection_modified.zip\r\n",
      "Resolving cainvas-static.s3.amazonaws.com (cainvas-static.s3.amazonaws.com)... 52.219.160.67\r\n",
      "Connecting to cainvas-static.s3.amazonaws.com (cainvas-static.s3.amazonaws.com)|52.219.160.67|:443... connected.\r\n",
      "HTTP request sent, awaiting response... 200 OK\r\n",
      "Length: 127436131 (122M) [application/x-zip-compressed]\r\n",
      "Saving to: ‘driver_drowsiness_detection_modified.zip’\r\n",
      "\r\n",
      "driver_drowsiness_d 100%[===================>] 121.53M  12.2MB/s    in 12s     \r\n",
      "\r\n",
      "2022-12-06 19:04:44 (10.5 MB/s) - ‘driver_drowsiness_detection_modified.zip’ saved [127436131/127436131]\r\n",
      "\r\n"
     ]
    }
   ],
   "source": [
    "!wget https://cainvas-static.s3.amazonaws.com/media/user_data/Yuvnish17/driver_drowsiness_detection_modified.zip\n",
    "!unzip -qo driver_drowsiness_detection_modified.zip"
   ]
  },
  {
   "cell_type": "code",
   "execution_count": 5,
   "id": "322dbf6f",
   "metadata": {
    "execution": {
     "iopub.execute_input": "2022-12-06T19:04:47.846703Z",
     "iopub.status.busy": "2022-12-06T19:04:47.845654Z",
     "iopub.status.idle": "2022-12-06T19:04:48.533780Z",
     "shell.execute_reply": "2022-12-06T19:04:48.532240Z"
    },
    "papermill": {
     "duration": 0.707779,
     "end_time": "2022-12-06T19:04:48.537227",
     "exception": false,
     "start_time": "2022-12-06T19:04:47.829448",
     "status": "completed"
    },
    "tags": []
   },
   "outputs": [
    {
     "name": "stdout",
     "output_type": "stream",
     "text": [
      "1452\n",
      "1452\n"
     ]
    }
   ],
   "source": [
    "data = np.load('driver_drowsiness_detection/dataset_compressed.npz', allow_pickle=True)\n",
    "X = data['arr_0']\n",
    "Y = data['arr_1']\n",
    "\n",
    "X = list(X)\n",
    "Y = list(Y)\n",
    "print(len(X))\n",
    "print(len(Y))"
   ]
  },
  {
   "cell_type": "code",
   "execution_count": 6,
   "id": "7d1f67ee",
   "metadata": {
    "execution": {
     "iopub.execute_input": "2022-12-06T19:04:48.566516Z",
     "iopub.status.busy": "2022-12-06T19:04:48.566001Z",
     "iopub.status.idle": "2022-12-06T19:04:48.613684Z",
     "shell.execute_reply": "2022-12-06T19:04:48.611614Z"
    },
    "papermill": {
     "duration": 0.065309,
     "end_time": "2022-12-06T19:04:48.616891",
     "exception": false,
     "start_time": "2022-12-06T19:04:48.551582",
     "status": "completed"
    },
    "tags": []
   },
   "outputs": [
    {
     "name": "stdout",
     "output_type": "stream",
     "text": [
      "1452\n",
      "(32, 32, 3)\n"
     ]
    }
   ],
   "source": [
    "for i in range(len(X)):\n",
    "    img = X[i]\n",
    "    img = cv2.resize(img, (32, 32))\n",
    "    X[i] = img\n",
    "    \n",
    "print(len(X))\n",
    "print(X[0].shape)"
   ]
  },
  {
   "cell_type": "code",
   "execution_count": 7,
   "id": "f5ae64be",
   "metadata": {
    "execution": {
     "iopub.execute_input": "2022-12-06T19:04:48.644256Z",
     "iopub.status.busy": "2022-12-06T19:04:48.643753Z",
     "iopub.status.idle": "2022-12-06T19:04:48.654929Z",
     "shell.execute_reply": "2022-12-06T19:04:48.652962Z"
    },
    "papermill": {
     "duration": 0.028741,
     "end_time": "2022-12-06T19:04:48.658612",
     "exception": false,
     "start_time": "2022-12-06T19:04:48.629871",
     "status": "completed"
    },
    "tags": []
   },
   "outputs": [
    {
     "name": "stdout",
     "output_type": "stream",
     "text": [
      "(1452,)\n",
      "0\n",
      "{0, 1}\n"
     ]
    }
   ],
   "source": [
    "label_encoder = LabelEncoder()\n",
    "Y = label_encoder.fit_transform(Y)\n",
    "print(Y.shape)\n",
    "print(Y[0])\n",
    "print(set(Y))"
   ]
  },
  {
   "cell_type": "code",
   "execution_count": 8,
   "id": "549eebf5",
   "metadata": {
    "execution": {
     "iopub.execute_input": "2022-12-06T19:04:48.687922Z",
     "iopub.status.busy": "2022-12-06T19:04:48.687374Z",
     "iopub.status.idle": "2022-12-06T19:04:48.704008Z",
     "shell.execute_reply": "2022-12-06T19:04:48.701860Z"
    },
    "papermill": {
     "duration": 0.035329,
     "end_time": "2022-12-06T19:04:48.708012",
     "exception": false,
     "start_time": "2022-12-06T19:04:48.672683",
     "status": "completed"
    },
    "tags": []
   },
   "outputs": [
    {
     "name": "stdout",
     "output_type": "stream",
     "text": [
      "(1452, 32, 32, 3)\n",
      "(1452,)\n"
     ]
    }
   ],
   "source": [
    "X = np.array(X)\n",
    "Y = np.array(Y)\n",
    "print(X.shape)\n",
    "print(Y.shape)"
   ]
  },
  {
   "cell_type": "code",
   "execution_count": 9,
   "id": "46cd5e46",
   "metadata": {
    "execution": {
     "iopub.execute_input": "2022-12-06T19:04:48.735240Z",
     "iopub.status.busy": "2022-12-06T19:04:48.734669Z",
     "iopub.status.idle": "2022-12-06T19:04:48.748444Z",
     "shell.execute_reply": "2022-12-06T19:04:48.747120Z"
    },
    "papermill": {
     "duration": 0.030963,
     "end_time": "2022-12-06T19:04:48.751478",
     "exception": false,
     "start_time": "2022-12-06T19:04:48.720515",
     "status": "completed"
    },
    "tags": []
   },
   "outputs": [],
   "source": [
    "X_train, X_test, Y_train, Y_test = train_test_split(X, Y, test_size=0.2)"
   ]
  },
  {
   "cell_type": "code",
   "execution_count": 10,
   "id": "0156a7e9",
   "metadata": {
    "execution": {
     "iopub.execute_input": "2022-12-06T19:04:48.778729Z",
     "iopub.status.busy": "2022-12-06T19:04:48.778252Z",
     "iopub.status.idle": "2022-12-06T19:04:48.788185Z",
     "shell.execute_reply": "2022-12-06T19:04:48.786487Z"
    },
    "papermill": {
     "duration": 0.027409,
     "end_time": "2022-12-06T19:04:48.790890",
     "exception": false,
     "start_time": "2022-12-06T19:04:48.763481",
     "status": "completed"
    },
    "tags": []
   },
   "outputs": [
    {
     "name": "stdout",
     "output_type": "stream",
     "text": [
      "(1161, 32, 32, 3)\n",
      "(1161,)\n",
      "(291, 32, 32, 3)\n",
      "(291,)\n",
      "(1161, 32, 32, 3)\n",
      "(1161, 2)\n",
      "(291, 32, 32, 3)\n",
      "(291, 2)\n"
     ]
    }
   ],
   "source": [
    "print(X_train.shape)\n",
    "print(Y_train.shape)\n",
    "print(X_test.shape)\n",
    "print(Y_test.shape)\n",
    "\n",
    "Y_train = to_categorical(Y_train)\n",
    "Y_test = to_categorical(Y_test)\n",
    "\n",
    "print(X_train.shape)\n",
    "print(Y_train.shape)\n",
    "print(X_test.shape)\n",
    "print(Y_test.shape)"
   ]
  },
  {
   "cell_type": "code",
   "execution_count": 11,
   "id": "e9ecf3ba",
   "metadata": {
    "execution": {
     "iopub.execute_input": "2022-12-06T19:04:48.819162Z",
     "iopub.status.busy": "2022-12-06T19:04:48.818301Z",
     "iopub.status.idle": "2022-12-06T19:04:49.144949Z",
     "shell.execute_reply": "2022-12-06T19:04:49.143865Z"
    },
    "papermill": {
     "duration": 0.343497,
     "end_time": "2022-12-06T19:04:49.147985",
     "exception": false,
     "start_time": "2022-12-06T19:04:48.804488",
     "status": "completed"
    },
    "tags": []
   },
   "outputs": [
    {
     "data": {
      "image/png": "[encoded data removed]",
      "text/plain": [
       "<Figure size 360x360 with 1 Axes>"
      ]
     },
     "metadata": {
      "needs_background": "light"
     },
     "output_type": "display_data"
    },
    {
     "data": {
      "image/png": "[encoded data removed]",
      "text/plain": [
       "<Figure size 360x360 with 1 Axes>"
      ]
     },
     "metadata": {
      "needs_background": "light"
     },
     "output_type": "display_data"
    }
   ],
   "source": [
    "figure1 = plt.figure(figsize=(5, 5))\n",
    "idx_closed = np.where(Y==0)\n",
    "img_closed = X[idx_closed[0][0]]\n",
    "plt.imshow(img_closed)\n",
    "plt.title('Image of Closed Eye representing Driver is sleeping')\n",
    "plt.axis('off')\n",
    "plt.show()\n",
    "\n",
    "figure2 = plt.figure(figsize=(5, 5))\n",
    "idx_open = np.where(Y==1)\n",
    "img_open = X[idx_open[0][0]]\n",
    "plt.imshow(img_open)\n",
    "plt.title('Image of Open Eye representing Driver is not sleeping')\n",
    "plt.axis('off')\n",
    "plt.show()"
   ]
  },
  {
   "cell_type": "code",
   "execution_count": 12,
   "id": "f640fb89",
   "metadata": {
    "execution": {
     "iopub.execute_input": "2022-12-06T19:04:49.176188Z",
     "iopub.status.busy": "2022-12-06T19:04:49.175625Z",
     "iopub.status.idle": "2022-12-06T19:04:49.374474Z",
     "shell.execute_reply": "2022-12-06T19:04:49.372888Z"
    },
    "papermill": {
     "duration": 0.217258,
     "end_time": "2022-12-06T19:04:49.378120",
     "exception": false,
     "start_time": "2022-12-06T19:04:49.160862",
     "status": "completed"
    },
    "tags": []
   },
   "outputs": [
    {
     "name": "stderr",
     "output_type": "stream",
     "text": [
      "/opt/conda/lib/python3.7/site-packages/seaborn/_decorators.py:43: FutureWarning: Pass the following variables as keyword args: x, y. From version 0.12, the only valid positional argument will be `data`, and passing other arguments without an explicit keyword will result in an error or misinterpretation.\n",
      "  FutureWarning\n"
     ]
    },
    {
     "data": {
      "image/png": "[encoded data removed]",
      "text/plain": [
       "<Figure size 1440x720 with 1 Axes>"
      ]
     },
     "metadata": {
      "needs_background": "light"
     },
     "output_type": "display_data"
    }
   ],
   "source": [
    "unique_train, count = np.unique(Y_train, return_counts=True)\n",
    "plt.figure(figsize=(20, 10))\n",
    "sns.barplot(unique_train, count).set_title(\"Number of training images per category:\")\n",
    "plt.show()"
   ]
  },
  {
   "cell_type": "code",
   "execution_count": 13,
   "id": "f35bc8e8",
   "metadata": {
    "execution": {
     "iopub.execute_input": "2022-12-06T19:04:49.411507Z",
     "iopub.status.busy": "2022-12-06T19:04:49.410995Z",
     "iopub.status.idle": "2022-12-06T19:04:49.584787Z",
     "shell.execute_reply": "2022-12-06T19:04:49.583306Z"
    },
    "papermill": {
     "duration": 0.194927,
     "end_time": "2022-12-06T19:04:49.587818",
     "exception": false,
     "start_time": "2022-12-06T19:04:49.392891",
     "status": "completed"
    },
    "tags": []
   },
   "outputs": [
    {
     "name": "stderr",
     "output_type": "stream",
     "text": [
      "/opt/conda/lib/python3.7/site-packages/seaborn/_decorators.py:43: FutureWarning: Pass the following variables as keyword args: x, y. From version 0.12, the only valid positional argument will be `data`, and passing other arguments without an explicit keyword will result in an error or misinterpretation.\n",
      "  FutureWarning\n"
     ]
    },
    {
     "data": {
      "image/png": "[encoded data removed]",
      "text/plain": [
       "<Figure size 1440x720 with 1 Axes>"
      ]
     },
     "metadata": {
      "needs_background": "light"
     },
     "output_type": "display_data"
    }
   ],
   "source": [
    "unique_test, count_test = np.unique(Y_test, return_counts=True)\n",
    "plt.figure(figsize=(20, 10))\n",
    "sns.barplot(unique_test, count_test).set_title(\"Number of training images per category:\")\n",
    "plt.show()"
   ]
  },
  {
   "cell_type": "code",
   "execution_count": 14,
   "id": "0aa2b88c",
   "metadata": {
    "execution": {
     "iopub.execute_input": "2022-12-06T19:04:49.618518Z",
     "iopub.status.busy": "2022-12-06T19:04:49.617048Z",
     "iopub.status.idle": "2022-12-06T19:04:49.640685Z",
     "shell.execute_reply": "2022-12-06T19:04:49.638671Z"
    },
    "papermill": {
     "duration": 0.043095,
     "end_time": "2022-12-06T19:04:49.644957",
     "exception": false,
     "start_time": "2022-12-06T19:04:49.601862",
     "status": "completed"
    },
    "tags": []
   },
   "outputs": [],
   "source": [
    "def driver_drowsiness_detection_model(input_shape=(32, 32, 3)):\n",
    "    model = Sequential()\n",
    "    model.add(Input(shape=input_shape))\n",
    "    model.add(Conv2D(32, (3, 3), padding='same', strides=(1, 1), name='conv1', activation='relu', \n",
    "                     kernel_initializer=glorot_uniform(seed=0)))\n",
    "    model.add(BatchNormalization())\n",
    "    model.add(Conv2D(32, (3, 3), padding='same', strides=(1, 1), name='conv2', activation='relu', \n",
    "                     kernel_initializer=glorot_uniform(seed=0)))\n",
    "    model.add(BatchNormalization())\n",
    "    model.add(Dropout(0.2))\n",
    "    model.add(MaxPool2D((2, 2), strides=(2, 2)))\n",
    "    \n",
    "    model.add(Conv2D(64, (3, 3), padding='same', strides=(1, 1), name='conv3', activation='relu', \n",
    "                     kernel_initializer=glorot_uniform(seed=0)))\n",
    "    model.add(BatchNormalization())\n",
    "    model.add(MaxPool2D((2, 2), strides=(2, 2)))\n",
    "    model.add(Conv2D(64, (3, 3), padding='same', strides=(1, 1), name='conv4', activation='relu', \n",
    "                     kernel_initializer=glorot_uniform(seed=0)))\n",
    "    model.add(BatchNormalization())\n",
    "    model.add(Dropout(0.3))\n",
    "    model.add(MaxPool2D((2, 2), strides=(2, 2)))\n",
    "    \n",
    "    model.add(Conv2D(64, (3, 3), padding='same', strides=(1, 1), name='conv5', activation='relu', \n",
    "                     kernel_initializer=glorot_uniform(seed=0)))\n",
    "    model.add(BatchNormalization())\n",
    "    model.add(Conv2D(64, (3, 3), padding='same', strides=(1, 1), name='conv6', activation='relu', \n",
    "                     kernel_initializer=glorot_uniform(seed=0)))\n",
    "    model.add(BatchNormalization())\n",
    "    model.add(Conv2D(64, (3, 3), padding='same', strides=(1, 1), name='conv7', activation='relu', \n",
    "                     kernel_initializer=glorot_uniform(seed=0)))\n",
    "    model.add(BatchNormalization())\n",
    "    model.add(Dropout(0.4))\n",
    "    model.add(MaxPool2D((2, 2), strides=(2, 2)))\n",
    "    \n",
    "    \n",
    "    model.add(Flatten())\n",
    "    model.add(Dense(128, activation='relu', kernel_initializer=glorot_uniform(seed=0), name='fc1'))\n",
    "    model.add(Dropout(0.5))\n",
    "    model.add(Dense(128, activation='relu', kernel_initializer=glorot_uniform(seed=0), name='fc2'))\n",
    "    model.add(Dropout(0.5))\n",
    "    model.add(Dense(2, activation='softmax', kernel_initializer=glorot_uniform(seed=0), name='fc3'))\n",
    "    \n",
    "    optimizer = Adam(0.0001)\n",
    "    model.compile(optimizer=optimizer, loss='categorical_crossentropy', metrics=['accuracy'])\n",
    "    return model"
   ]
  },
  {
   "cell_type": "code",
   "execution_count": 15,
   "id": "6e2c5205",
   "metadata": {
    "execution": {
     "iopub.execute_input": "2022-12-06T19:04:49.675960Z",
     "iopub.status.busy": "2022-12-06T19:04:49.675519Z",
     "iopub.status.idle": "2022-12-06T19:04:50.112555Z",
     "shell.execute_reply": "2022-12-06T19:04:50.110448Z"
    },
    "papermill": {
     "duration": 0.455542,
     "end_time": "2022-12-06T19:04:50.115876",
     "exception": false,
     "start_time": "2022-12-06T19:04:49.660334",
     "status": "completed"
    },
    "tags": []
   },
   "outputs": [
    {
     "name": "stderr",
     "output_type": "stream",
     "text": [
      "2022-12-06 19:04:49.723767: I tensorflow/core/common_runtime/process_util.cc:146] Creating new thread pool with default inter op setting: 2. Tune using inter_op_parallelism_threads for best performance.\n"
     ]
    },
    {
     "name": "stdout",
     "output_type": "stream",
     "text": [
      "Model: \"sequential\"\n",
      "_________________________________________________________________\n",
      "Layer (type)                 Output Shape              Param #   \n",
      "=================================================================\n",
      "conv1 (Conv2D)               (None, 32, 32, 32)        896       \n",
      "_________________________________________________________________\n",
      "batch_normalization (BatchNo (None, 32, 32, 32)        128       \n",
      "_________________________________________________________________\n",
      "conv2 (Conv2D)               (None, 32, 32, 32)        9248      \n",
      "_________________________________________________________________\n",
      "batch_normalization_1 (Batch (None, 32, 32, 32)        128       \n",
      "_________________________________________________________________\n",
      "dropout (Dropout)            (None, 32, 32, 32)        0         \n",
      "_________________________________________________________________\n",
      "max_pooling2d (MaxPooling2D) (None, 16, 16, 32)        0         \n",
      "_________________________________________________________________\n",
      "conv3 (Conv2D)               (None, 16, 16, 64)        18496     \n",
      "_________________________________________________________________\n",
      "batch_normalization_2 (Batch (None, 16, 16, 64)        256       \n",
      "_________________________________________________________________\n",
      "max_pooling2d_1 (MaxPooling2 (None, 8, 8, 64)          0         \n",
      "_________________________________________________________________\n",
      "conv4 (Conv2D)               (None, 8, 8, 64)          36928     \n",
      "_________________________________________________________________\n",
      "batch_normalization_3 (Batch (None, 8, 8, 64)          256       \n",
      "_________________________________________________________________\n",
      "dropout_1 (Dropout)          (None, 8, 8, 64)          0         \n",
      "_________________________________________________________________\n",
      "max_pooling2d_2 (MaxPooling2 (None, 4, 4, 64)          0         \n",
      "_________________________________________________________________\n",
      "conv5 (Conv2D)               (None, 4, 4, 64)          36928     \n",
      "_________________________________________________________________\n",
      "batch_normalization_4 (Batch (None, 4, 4, 64)          256       \n",
      "_________________________________________________________________\n",
      "conv6 (Conv2D)               (None, 4, 4, 64)          36928     \n",
      "_________________________________________________________________\n",
      "batch_normalization_5 (Batch (None, 4, 4, 64)          256       \n",
      "_________________________________________________________________\n",
      "conv7 (Conv2D)               (None, 4, 4, 64)          36928     \n",
      "_________________________________________________________________\n",
      "batch_normalization_6 (Batch (None, 4, 4, 64)          256       \n",
      "_________________________________________________________________\n",
      "dropout_2 (Dropout)          (None, 4, 4, 64)          0         \n",
      "_________________________________________________________________\n",
      "max_pooling2d_3 (MaxPooling2 (None, 2, 2, 64)          0         \n",
      "_________________________________________________________________\n",
      "flatten (Flatten)            (None, 256)               0         \n",
      "_________________________________________________________________\n",
      "fc1 (Dense)                  (None, 128)               32896     \n",
      "_________________________________________________________________\n",
      "dropout_3 (Dropout)          (None, 128)               0         \n",
      "_________________________________________________________________\n",
      "fc2 (Dense)                  (None, 128)               16512     \n",
      "_________________________________________________________________\n",
      "dropout_4 (Dropout)          (None, 128)               0         \n",
      "_________________________________________________________________\n",
      "fc3 (Dense)                  (None, 2)                 258       \n",
      "=================================================================\n",
      "Total params: 227,554\n",
      "Trainable params: 226,786\n",
      "Non-trainable params: 768\n",
      "_________________________________________________________________\n"
     ]
    }
   ],
   "source": [
    "model= driver_drowsiness_detection_model(input_shape=(32, 32, 3))\n",
    "model.summary()"
   ]
  },
  {
   "cell_type": "code",
   "execution_count": 16,
   "id": "42a7f168",
   "metadata": {
    "execution": {
     "iopub.execute_input": "2022-12-06T19:04:50.148341Z",
     "iopub.status.busy": "2022-12-06T19:04:50.147826Z",
     "iopub.status.idle": "2022-12-06T19:19:15.440822Z",
     "shell.execute_reply": "2022-12-06T19:19:15.439338Z"
    },
    "papermill": {
     "duration": 865.313287,
     "end_time": "2022-12-06T19:19:15.444347",
     "exception": false,
     "start_time": "2022-12-06T19:04:50.131060",
     "status": "completed"
    },
    "tags": []
   },
   "outputs": [
    {
     "name": "stderr",
     "output_type": "stream",
     "text": [
      "2022-12-06 19:04:50.327295: I tensorflow/compiler/mlir/mlir_graph_optimization_pass.cc:185] None of the MLIR Optimization Passes are enabled (registered 2)\n"
     ]
    },
    {
     "name": "stdout",
     "output_type": "stream",
     "text": [
      "Epoch 1/200\n",
      "10/10 [==============================] - 5s 298ms/step - loss: 1.3745 - accuracy: 0.5030 - val_loss: 0.7206 - val_accuracy: 0.5017\n",
      "Epoch 2/200\n",
      "10/10 [==============================] - 3s 250ms/step - loss: 1.1476 - accuracy: 0.5607 - val_loss: 0.7172 - val_accuracy: 0.4948\n",
      "Epoch 3/200\n",
      "10/10 [==============================] - 3s 268ms/step - loss: 1.0443 - accuracy: 0.5607 - val_loss: 0.6788 - val_accuracy: 0.5258\n",
      "Epoch 4/200\n",
      "10/10 [==============================] - 3s 310ms/step - loss: 0.9232 - accuracy: 0.5797 - val_loss: 0.6449 - val_accuracy: 0.5670\n",
      "Epoch 5/200\n",
      "10/10 [==============================] - 3s 262ms/step - loss: 0.9119 - accuracy: 0.5952 - val_loss: 0.6243 - val_accuracy: 0.6529\n",
      "Epoch 6/200\n",
      "10/10 [==============================] - 3s 262ms/step - loss: 0.7858 - accuracy: 0.6296 - val_loss: 0.6097 - val_accuracy: 0.7045\n",
      "Epoch 7/200\n",
      "10/10 [==============================] - 3s 332ms/step - loss: 0.8258 - accuracy: 0.6176 - val_loss: 0.5966 - val_accuracy: 0.7388\n",
      "Epoch 8/200\n",
      "10/10 [==============================] - 3s 248ms/step - loss: 0.7683 - accuracy: 0.6296 - val_loss: 0.5847 - val_accuracy: 0.7595\n",
      "Epoch 9/200\n",
      "10/10 [==============================] - 3s 275ms/step - loss: 0.7656 - accuracy: 0.6322 - val_loss: 0.5764 - val_accuracy: 0.7388\n",
      "Epoch 10/200\n",
      "10/10 [==============================] - 3s 254ms/step - loss: 0.6854 - accuracy: 0.6649 - val_loss: 0.5692 - val_accuracy: 0.7354\n",
      "Epoch 11/200\n",
      "10/10 [==============================] - 3s 253ms/step - loss: 0.7576 - accuracy: 0.6529 - val_loss: 0.5609 - val_accuracy: 0.7320\n",
      "Epoch 12/200\n",
      "10/10 [==============================] - 3s 247ms/step - loss: 0.6653 - accuracy: 0.6546 - val_loss: 0.5544 - val_accuracy: 0.7354\n",
      "Epoch 13/200\n",
      "10/10 [==============================] - 3s 247ms/step - loss: 0.6945 - accuracy: 0.6503 - val_loss: 0.5449 - val_accuracy: 0.7320\n",
      "Epoch 14/200\n",
      "10/10 [==============================] - 3s 322ms/step - loss: 0.6964 - accuracy: 0.6477 - val_loss: 0.5335 - val_accuracy: 0.7491\n",
      "Epoch 15/200\n",
      "10/10 [==============================] - 3s 251ms/step - loss: 0.6774 - accuracy: 0.6744 - val_loss: 0.5186 - val_accuracy: 0.7560\n",
      "Epoch 16/200\n",
      "10/10 [==============================] - 3s 247ms/step - loss: 0.6066 - accuracy: 0.7089 - val_loss: 0.5076 - val_accuracy: 0.7766\n",
      "Epoch 17/200\n",
      "10/10 [==============================] - 3s 250ms/step - loss: 0.6164 - accuracy: 0.7046 - val_loss: 0.4933 - val_accuracy: 0.7869\n",
      "Epoch 18/200\n",
      "10/10 [==============================] - 3s 262ms/step - loss: 0.5426 - accuracy: 0.7089 - val_loss: 0.4794 - val_accuracy: 0.7869\n",
      "Epoch 19/200\n",
      "10/10 [==============================] - 3s 251ms/step - loss: 0.5688 - accuracy: 0.7209 - val_loss: 0.4664 - val_accuracy: 0.8007\n",
      "Epoch 20/200\n",
      "10/10 [==============================] - 3s 246ms/step - loss: 0.5397 - accuracy: 0.7416 - val_loss: 0.4522 - val_accuracy: 0.8007\n",
      "Epoch 21/200\n",
      "10/10 [==============================] - 3s 252ms/step - loss: 0.5365 - accuracy: 0.7433 - val_loss: 0.4355 - val_accuracy: 0.8144\n",
      "Epoch 22/200\n",
      "10/10 [==============================] - 3s 262ms/step - loss: 0.5077 - accuracy: 0.7502 - val_loss: 0.4211 - val_accuracy: 0.8144\n",
      "Epoch 23/200\n",
      "10/10 [==============================] - 3s 264ms/step - loss: 0.5241 - accuracy: 0.7476 - val_loss: 0.4104 - val_accuracy: 0.8179\n",
      "Epoch 24/200\n",
      "10/10 [==============================] - 3s 246ms/step - loss: 0.4757 - accuracy: 0.7683 - val_loss: 0.3979 - val_accuracy: 0.8351\n",
      "Epoch 25/200\n",
      "10/10 [==============================] - 3s 258ms/step - loss: 0.4958 - accuracy: 0.7735 - val_loss: 0.3850 - val_accuracy: 0.8419\n",
      "Epoch 26/200\n",
      "10/10 [==============================] - 3s 245ms/step - loss: 0.4604 - accuracy: 0.7924 - val_loss: 0.3742 - val_accuracy: 0.8454\n",
      "Epoch 27/200\n",
      "10/10 [==============================] - 3s 257ms/step - loss: 0.4420 - accuracy: 0.8053 - val_loss: 0.3612 - val_accuracy: 0.8488\n",
      "Epoch 28/200\n",
      "10/10 [==============================] - 3s 334ms/step - loss: 0.4443 - accuracy: 0.7881 - val_loss: 0.3470 - val_accuracy: 0.8694\n",
      "Epoch 29/200\n",
      "10/10 [==============================] - 3s 247ms/step - loss: 0.4566 - accuracy: 0.8028 - val_loss: 0.3336 - val_accuracy: 0.8660\n",
      "Epoch 30/200\n",
      "10/10 [==============================] - 3s 250ms/step - loss: 0.4595 - accuracy: 0.7993 - val_loss: 0.3206 - val_accuracy: 0.8729\n",
      "Epoch 31/200\n",
      "10/10 [==============================] - 3s 248ms/step - loss: 0.4231 - accuracy: 0.8260 - val_loss: 0.3108 - val_accuracy: 0.8763\n",
      "Epoch 32/200\n",
      "10/10 [==============================] - 3s 254ms/step - loss: 0.4129 - accuracy: 0.8234 - val_loss: 0.2986 - val_accuracy: 0.8797\n",
      "Epoch 33/200\n",
      "10/10 [==============================] - 3s 249ms/step - loss: 0.3842 - accuracy: 0.8415 - val_loss: 0.2855 - val_accuracy: 0.8763\n",
      "Epoch 34/200\n",
      "10/10 [==============================] - 3s 357ms/step - loss: 0.4178 - accuracy: 0.8320 - val_loss: 0.2718 - val_accuracy: 0.9003\n",
      "Epoch 35/200\n",
      "10/10 [==============================] - 3s 277ms/step - loss: 0.3606 - accuracy: 0.8536 - val_loss: 0.2611 - val_accuracy: 0.9141\n",
      "Epoch 36/200\n",
      "10/10 [==============================] - 3s 251ms/step - loss: 0.3477 - accuracy: 0.8536 - val_loss: 0.2507 - val_accuracy: 0.9141\n",
      "Epoch 37/200\n",
      "10/10 [==============================] - 3s 257ms/step - loss: 0.3204 - accuracy: 0.8751 - val_loss: 0.2439 - val_accuracy: 0.9210\n",
      "Epoch 38/200\n",
      "10/10 [==============================] - 3s 261ms/step - loss: 0.3218 - accuracy: 0.8889 - val_loss: 0.2384 - val_accuracy: 0.9210\n",
      "Epoch 39/200\n",
      "10/10 [==============================] - 3s 248ms/step - loss: 0.3004 - accuracy: 0.8777 - val_loss: 0.2315 - val_accuracy: 0.9175\n",
      "Epoch 40/200\n",
      "10/10 [==============================] - 3s 332ms/step - loss: 0.3078 - accuracy: 0.8898 - val_loss: 0.2233 - val_accuracy: 0.9141\n",
      "Epoch 41/200\n",
      "10/10 [==============================] - 3s 252ms/step - loss: 0.2726 - accuracy: 0.8880 - val_loss: 0.2128 - val_accuracy: 0.9210\n",
      "Epoch 42/200\n",
      "10/10 [==============================] - 3s 261ms/step - loss: 0.2852 - accuracy: 0.8898 - val_loss: 0.2039 - val_accuracy: 0.9244\n",
      "Epoch 43/200\n",
      "10/10 [==============================] - 3s 254ms/step - loss: 0.2973 - accuracy: 0.8915 - val_loss: 0.2006 - val_accuracy: 0.9244\n",
      "Epoch 44/200\n",
      "10/10 [==============================] - 3s 265ms/step - loss: 0.2641 - accuracy: 0.9087 - val_loss: 0.1980 - val_accuracy: 0.9347\n",
      "Epoch 45/200\n",
      "10/10 [==============================] - 3s 253ms/step - loss: 0.2758 - accuracy: 0.9009 - val_loss: 0.1945 - val_accuracy: 0.9313\n",
      "Epoch 46/200\n",
      "10/10 [==============================] - 3s 275ms/step - loss: 0.2232 - accuracy: 0.9139 - val_loss: 0.1908 - val_accuracy: 0.9313\n",
      "Epoch 47/200\n",
      "10/10 [==============================] - 3s 245ms/step - loss: 0.2563 - accuracy: 0.9113 - val_loss: 0.1859 - val_accuracy: 0.9347\n",
      "Epoch 48/200\n",
      "10/10 [==============================] - 3s 245ms/step - loss: 0.2622 - accuracy: 0.9070 - val_loss: 0.1812 - val_accuracy: 0.9347\n",
      "Epoch 49/200\n",
      "10/10 [==============================] - 3s 249ms/step - loss: 0.2287 - accuracy: 0.9156 - val_loss: 0.1788 - val_accuracy: 0.9381\n",
      "Epoch 50/200\n",
      "10/10 [==============================] - 3s 246ms/step - loss: 0.2288 - accuracy: 0.8958 - val_loss: 0.1789 - val_accuracy: 0.9347\n",
      "Epoch 51/200\n",
      "10/10 [==============================] - 3s 290ms/step - loss: 0.2244 - accuracy: 0.9113 - val_loss: 0.1812 - val_accuracy: 0.9278\n",
      "Epoch 52/200\n",
      "10/10 [==============================] - 3s 260ms/step - loss: 0.2280 - accuracy: 0.9173 - val_loss: 0.1860 - val_accuracy: 0.9278\n",
      "Epoch 53/200\n",
      "10/10 [==============================] - 3s 245ms/step - loss: 0.2311 - accuracy: 0.9182 - val_loss: 0.1799 - val_accuracy: 0.9381\n",
      "Epoch 54/200\n",
      "10/10 [==============================] - 3s 253ms/step - loss: 0.2154 - accuracy: 0.9173 - val_loss: 0.1621 - val_accuracy: 0.9347\n",
      "Epoch 55/200\n",
      "10/10 [==============================] - 3s 249ms/step - loss: 0.2104 - accuracy: 0.9096 - val_loss: 0.1550 - val_accuracy: 0.9381\n",
      "Epoch 56/200\n",
      "10/10 [==============================] - 3s 258ms/step - loss: 0.2164 - accuracy: 0.9190 - val_loss: 0.1637 - val_accuracy: 0.9416\n",
      "Epoch 57/200\n",
      "10/10 [==============================] - 3s 256ms/step - loss: 0.2028 - accuracy: 0.9216 - val_loss: 0.1717 - val_accuracy: 0.9347\n",
      "Epoch 58/200\n",
      "10/10 [==============================] - 3s 256ms/step - loss: 0.1898 - accuracy: 0.9320 - val_loss: 0.1706 - val_accuracy: 0.9450\n",
      "Epoch 59/200\n",
      "10/10 [==============================] - 3s 241ms/step - loss: 0.2043 - accuracy: 0.9276 - val_loss: 0.1571 - val_accuracy: 0.9416\n",
      "Epoch 60/200\n",
      "10/10 [==============================] - 3s 321ms/step - loss: 0.2164 - accuracy: 0.9345 - val_loss: 0.1485 - val_accuracy: 0.9381\n",
      "Epoch 61/200\n",
      "10/10 [==============================] - 3s 248ms/step - loss: 0.2077 - accuracy: 0.9199 - val_loss: 0.1509 - val_accuracy: 0.9381\n",
      "Epoch 62/200\n",
      "10/10 [==============================] - 3s 254ms/step - loss: 0.1878 - accuracy: 0.9311 - val_loss: 0.1558 - val_accuracy: 0.9381\n",
      "Epoch 63/200\n",
      "10/10 [==============================] - 3s 248ms/step - loss: 0.1724 - accuracy: 0.9432 - val_loss: 0.1603 - val_accuracy: 0.9347\n",
      "Epoch 64/200\n",
      "10/10 [==============================] - 2s 242ms/step - loss: 0.1676 - accuracy: 0.9371 - val_loss: 0.1637 - val_accuracy: 0.9347\n",
      "Epoch 65/200\n",
      "10/10 [==============================] - 3s 273ms/step - loss: 0.1828 - accuracy: 0.9354 - val_loss: 0.1630 - val_accuracy: 0.9381\n",
      "Epoch 66/200\n",
      "10/10 [==============================] - 2s 238ms/step - loss: 0.1713 - accuracy: 0.9388 - val_loss: 0.1612 - val_accuracy: 0.9381\n",
      "Epoch 67/200\n",
      "10/10 [==============================] - 3s 246ms/step - loss: 0.1737 - accuracy: 0.9432 - val_loss: 0.1627 - val_accuracy: 0.9347\n",
      "Epoch 68/200\n",
      "10/10 [==============================] - 2s 242ms/step - loss: 0.1501 - accuracy: 0.9406 - val_loss: 0.1500 - val_accuracy: 0.9416\n",
      "Epoch 69/200\n",
      "10/10 [==============================] - 3s 321ms/step - loss: 0.1487 - accuracy: 0.9492 - val_loss: 0.1413 - val_accuracy: 0.9416\n",
      "Epoch 70/200\n",
      "10/10 [==============================] - 3s 248ms/step - loss: 0.1359 - accuracy: 0.9483 - val_loss: 0.1372 - val_accuracy: 0.9381\n",
      "Epoch 71/200\n",
      "10/10 [==============================] - 2s 268ms/step - loss: 0.1316 - accuracy: 0.9500 - val_loss: 0.1393 - val_accuracy: 0.9381\n",
      "Epoch 72/200\n",
      "10/10 [==============================] - 2s 242ms/step - loss: 0.1647 - accuracy: 0.9380 - val_loss: 0.1437 - val_accuracy: 0.9450\n",
      "Epoch 73/200\n",
      "10/10 [==============================] - 2s 241ms/step - loss: 0.1574 - accuracy: 0.9449 - val_loss: 0.1633 - val_accuracy: 0.9450\n",
      "Epoch 74/200\n",
      "10/10 [==============================] - 3s 246ms/step - loss: 0.1459 - accuracy: 0.9492 - val_loss: 0.1553 - val_accuracy: 0.9553\n",
      "Epoch 75/200\n",
      "10/10 [==============================] - 2s 242ms/step - loss: 0.1600 - accuracy: 0.9440 - val_loss: 0.1470 - val_accuracy: 0.9485\n",
      "Epoch 76/200\n",
      "10/10 [==============================] - 2s 241ms/step - loss: 0.1666 - accuracy: 0.9406 - val_loss: 0.1367 - val_accuracy: 0.9485\n",
      "Epoch 77/200\n",
      "10/10 [==============================] - 2s 240ms/step - loss: 0.1330 - accuracy: 0.9500 - val_loss: 0.1379 - val_accuracy: 0.9485\n",
      "Epoch 78/200\n",
      "10/10 [==============================] - 3s 249ms/step - loss: 0.1370 - accuracy: 0.9526 - val_loss: 0.1305 - val_accuracy: 0.9450\n",
      "Epoch 79/200\n",
      "10/10 [==============================] - 3s 278ms/step - loss: 0.1248 - accuracy: 0.9509 - val_loss: 0.1273 - val_accuracy: 0.9485\n",
      "Epoch 80/200\n",
      "10/10 [==============================] - 3s 249ms/step - loss: 0.1171 - accuracy: 0.9552 - val_loss: 0.1210 - val_accuracy: 0.9450\n",
      "Epoch 81/200\n",
      "10/10 [==============================] - 3s 247ms/step - loss: 0.1254 - accuracy: 0.9569 - val_loss: 0.1103 - val_accuracy: 0.9519\n",
      "Epoch 82/200\n",
      "10/10 [==============================] - 3s 243ms/step - loss: 0.1609 - accuracy: 0.9414 - val_loss: 0.0960 - val_accuracy: 0.9553\n",
      "Epoch 83/200\n",
      "10/10 [==============================] - 3s 256ms/step - loss: 0.1235 - accuracy: 0.9509 - val_loss: 0.0989 - val_accuracy: 0.9656\n",
      "Epoch 84/200\n",
      "10/10 [==============================] - 2s 241ms/step - loss: 0.1379 - accuracy: 0.9569 - val_loss: 0.1004 - val_accuracy: 0.9553\n",
      "Epoch 85/200\n",
      "10/10 [==============================] - 3s 249ms/step - loss: 0.1364 - accuracy: 0.9604 - val_loss: 0.1096 - val_accuracy: 0.9450\n",
      "Epoch 86/200\n",
      "10/10 [==============================] - 3s 334ms/step - loss: 0.1336 - accuracy: 0.9509 - val_loss: 0.1164 - val_accuracy: 0.9416\n",
      "Epoch 87/200\n",
      "10/10 [==============================] - 3s 280ms/step - loss: 0.1201 - accuracy: 0.9500 - val_loss: 0.1174 - val_accuracy: 0.9450\n",
      "Epoch 88/200\n",
      "10/10 [==============================] - 3s 250ms/step - loss: 0.1215 - accuracy: 0.9552 - val_loss: 0.1197 - val_accuracy: 0.9450\n",
      "Epoch 89/200\n",
      "10/10 [==============================] - 3s 250ms/step - loss: 0.1159 - accuracy: 0.9587 - val_loss: 0.1200 - val_accuracy: 0.9450\n",
      "Epoch 90/200\n",
      "10/10 [==============================] - 3s 250ms/step - loss: 0.1235 - accuracy: 0.9543 - val_loss: 0.1149 - val_accuracy: 0.9485\n",
      "Epoch 91/200\n",
      "10/10 [==============================] - 3s 242ms/step - loss: 0.1370 - accuracy: 0.9526 - val_loss: 0.1056 - val_accuracy: 0.9553\n",
      "Epoch 92/200\n",
      "10/10 [==============================] - 3s 244ms/step - loss: 0.1232 - accuracy: 0.9492 - val_loss: 0.0963 - val_accuracy: 0.9588\n",
      "Epoch 93/200\n",
      "10/10 [==============================] - 2s 240ms/step - loss: 0.0959 - accuracy: 0.9716 - val_loss: 0.0915 - val_accuracy: 0.9588\n",
      "Epoch 94/200\n",
      "10/10 [==============================] - 3s 328ms/step - loss: 0.1267 - accuracy: 0.9492 - val_loss: 0.1001 - val_accuracy: 0.9588\n",
      "Epoch 95/200\n",
      "10/10 [==============================] - 3s 250ms/step - loss: 0.1037 - accuracy: 0.9638 - val_loss: 0.1079 - val_accuracy: 0.9485\n",
      "Epoch 96/200\n",
      "10/10 [==============================] - 3s 258ms/step - loss: 0.1202 - accuracy: 0.9604 - val_loss: 0.1077 - val_accuracy: 0.9450\n",
      "Epoch 97/200\n",
      "10/10 [==============================] - 3s 245ms/step - loss: 0.1350 - accuracy: 0.9587 - val_loss: 0.0975 - val_accuracy: 0.9519\n",
      "Epoch 98/200\n",
      "10/10 [==============================] - 3s 242ms/step - loss: 0.0845 - accuracy: 0.9690 - val_loss: 0.0918 - val_accuracy: 0.9588\n",
      "Epoch 99/200\n",
      "10/10 [==============================] - 3s 257ms/step - loss: 0.1267 - accuracy: 0.9552 - val_loss: 0.0904 - val_accuracy: 0.9519\n",
      "Epoch 100/200\n",
      "10/10 [==============================] - 2s 271ms/step - loss: 0.0921 - accuracy: 0.9604 - val_loss: 0.0957 - val_accuracy: 0.9519\n",
      "Epoch 101/200\n",
      "10/10 [==============================] - 2s 243ms/step - loss: 0.0889 - accuracy: 0.9647 - val_loss: 0.0957 - val_accuracy: 0.9553\n",
      "Epoch 102/200\n",
      "10/10 [==============================] - 3s 283ms/step - loss: 0.0923 - accuracy: 0.9664 - val_loss: 0.0962 - val_accuracy: 0.9519\n",
      "Epoch 103/200\n",
      "10/10 [==============================] - 3s 253ms/step - loss: 0.1080 - accuracy: 0.9604 - val_loss: 0.0990 - val_accuracy: 0.9553\n",
      "Epoch 104/200\n",
      "10/10 [==============================] - 3s 259ms/step - loss: 0.1152 - accuracy: 0.9690 - val_loss: 0.0969 - val_accuracy: 0.9553\n",
      "Epoch 105/200\n",
      "10/10 [==============================] - 3s 250ms/step - loss: 0.0950 - accuracy: 0.9638 - val_loss: 0.0904 - val_accuracy: 0.9485\n",
      "Epoch 106/200\n",
      "10/10 [==============================] - 3s 254ms/step - loss: 0.1059 - accuracy: 0.9664 - val_loss: 0.1093 - val_accuracy: 0.9450\n",
      "Epoch 107/200\n",
      "10/10 [==============================] - 3s 253ms/step - loss: 0.0988 - accuracy: 0.9630 - val_loss: 0.1086 - val_accuracy: 0.9450\n",
      "Epoch 108/200\n",
      "10/10 [==============================] - 3s 243ms/step - loss: 0.1157 - accuracy: 0.9604 - val_loss: 0.0997 - val_accuracy: 0.9519\n",
      "Epoch 109/200\n",
      "10/10 [==============================] - 3s 246ms/step - loss: 0.0931 - accuracy: 0.9716 - val_loss: 0.1023 - val_accuracy: 0.9485\n",
      "Epoch 110/200\n",
      "10/10 [==============================] - 3s 250ms/step - loss: 0.1033 - accuracy: 0.9587 - val_loss: 0.1061 - val_accuracy: 0.9485\n",
      "Epoch 111/200\n",
      "10/10 [==============================] - 3s 252ms/step - loss: 0.0837 - accuracy: 0.9750 - val_loss: 0.1130 - val_accuracy: 0.9416\n",
      "Epoch 112/200\n",
      "10/10 [==============================] - 3s 250ms/step - loss: 0.0798 - accuracy: 0.9707 - val_loss: 0.1157 - val_accuracy: 0.9519\n",
      "Epoch 113/200\n",
      "10/10 [==============================] - 3s 261ms/step - loss: 0.0829 - accuracy: 0.9690 - val_loss: 0.1203 - val_accuracy: 0.9519\n",
      "Epoch 114/200\n",
      "10/10 [==============================] - 2s 241ms/step - loss: 0.0685 - accuracy: 0.9776 - val_loss: 0.1198 - val_accuracy: 0.9553\n",
      "Epoch 115/200\n",
      "10/10 [==============================] - 2s 238ms/step - loss: 0.0707 - accuracy: 0.9750 - val_loss: 0.1148 - val_accuracy: 0.9553\n",
      "Epoch 116/200\n",
      "10/10 [==============================] - 3s 246ms/step - loss: 0.1058 - accuracy: 0.9664 - val_loss: 0.1082 - val_accuracy: 0.9553\n",
      "Epoch 117/200\n",
      "10/10 [==============================] - 3s 246ms/step - loss: 0.0580 - accuracy: 0.9750 - val_loss: 0.1139 - val_accuracy: 0.9519\n",
      "Epoch 118/200\n",
      "10/10 [==============================] - 3s 323ms/step - loss: 0.0669 - accuracy: 0.9733 - val_loss: 0.1269 - val_accuracy: 0.9416\n",
      "Epoch 119/200\n",
      "10/10 [==============================] - 3s 254ms/step - loss: 0.0799 - accuracy: 0.9699 - val_loss: 0.1306 - val_accuracy: 0.9347\n",
      "Epoch 120/200\n",
      "10/10 [==============================] - 2s 241ms/step - loss: 0.0796 - accuracy: 0.9750 - val_loss: 0.1293 - val_accuracy: 0.9381\n",
      "Epoch 121/200\n",
      "10/10 [==============================] - 3s 277ms/step - loss: 0.0896 - accuracy: 0.9690 - val_loss: 0.1067 - val_accuracy: 0.9656\n",
      "Epoch 122/200\n",
      "10/10 [==============================] - 2s 241ms/step - loss: 0.1003 - accuracy: 0.9647 - val_loss: 0.0645 - val_accuracy: 0.9691\n",
      "Epoch 123/200\n",
      "10/10 [==============================] - 2s 238ms/step - loss: 0.0815 - accuracy: 0.9707 - val_loss: 0.0660 - val_accuracy: 0.9622\n",
      "Epoch 124/200\n",
      "10/10 [==============================] - 2s 237ms/step - loss: 0.0926 - accuracy: 0.9638 - val_loss: 0.0765 - val_accuracy: 0.9656\n",
      "Epoch 125/200\n",
      "10/10 [==============================] - 3s 250ms/step - loss: 0.0916 - accuracy: 0.9664 - val_loss: 0.0853 - val_accuracy: 0.9656\n",
      "Epoch 126/200\n",
      "10/10 [==============================] - 3s 325ms/step - loss: 0.0843 - accuracy: 0.9733 - val_loss: 0.0859 - val_accuracy: 0.9622\n",
      "Epoch 127/200\n",
      "10/10 [==============================] - 3s 248ms/step - loss: 0.0884 - accuracy: 0.9750 - val_loss: 0.0887 - val_accuracy: 0.9519\n",
      "Epoch 128/200\n",
      "10/10 [==============================] - 3s 260ms/step - loss: 0.0857 - accuracy: 0.9724 - val_loss: 0.0964 - val_accuracy: 0.9519\n",
      "Epoch 129/200\n",
      "10/10 [==============================] - 3s 258ms/step - loss: 0.0616 - accuracy: 0.9793 - val_loss: 0.0961 - val_accuracy: 0.9588\n",
      "Epoch 130/200\n",
      "10/10 [==============================] - 3s 257ms/step - loss: 0.0850 - accuracy: 0.9733 - val_loss: 0.1063 - val_accuracy: 0.9519\n",
      "Epoch 131/200\n",
      "10/10 [==============================] - 3s 273ms/step - loss: 0.0739 - accuracy: 0.9742 - val_loss: 0.1043 - val_accuracy: 0.9519\n",
      "Epoch 132/200\n",
      "10/10 [==============================] - 3s 255ms/step - loss: 0.0719 - accuracy: 0.9767 - val_loss: 0.1021 - val_accuracy: 0.9485\n",
      "Epoch 133/200\n",
      "10/10 [==============================] - 3s 254ms/step - loss: 0.0646 - accuracy: 0.9750 - val_loss: 0.0880 - val_accuracy: 0.9622\n",
      "Epoch 134/200\n",
      "10/10 [==============================] - 3s 327ms/step - loss: 0.0782 - accuracy: 0.9742 - val_loss: 0.0800 - val_accuracy: 0.9588\n",
      "Epoch 135/200\n",
      "10/10 [==============================] - 2s 242ms/step - loss: 0.0819 - accuracy: 0.9707 - val_loss: 0.0794 - val_accuracy: 0.9656\n",
      "Epoch 136/200\n",
      "10/10 [==============================] - 3s 280ms/step - loss: 0.0693 - accuracy: 0.9750 - val_loss: 0.0741 - val_accuracy: 0.9656\n",
      "Epoch 137/200\n",
      "10/10 [==============================] - 3s 245ms/step - loss: 0.0747 - accuracy: 0.9793 - val_loss: 0.0793 - val_accuracy: 0.9622\n",
      "Epoch 138/200\n",
      "10/10 [==============================] - 3s 253ms/step - loss: 0.0749 - accuracy: 0.9767 - val_loss: 0.0885 - val_accuracy: 0.9519\n",
      "Epoch 139/200\n",
      "10/10 [==============================] - 3s 248ms/step - loss: 0.0644 - accuracy: 0.9776 - val_loss: 0.0867 - val_accuracy: 0.9553\n",
      "Epoch 140/200\n",
      "10/10 [==============================] - 3s 258ms/step - loss: 0.0565 - accuracy: 0.9802 - val_loss: 0.0877 - val_accuracy: 0.9553\n",
      "Epoch 141/200\n",
      "10/10 [==============================] - 3s 247ms/step - loss: 0.0537 - accuracy: 0.9836 - val_loss: 0.0896 - val_accuracy: 0.9519\n",
      "Epoch 142/200\n",
      "10/10 [==============================] - 3s 246ms/step - loss: 0.0661 - accuracy: 0.9742 - val_loss: 0.0947 - val_accuracy: 0.9485\n",
      "Epoch 143/200\n",
      "10/10 [==============================] - 3s 244ms/step - loss: 0.0517 - accuracy: 0.9811 - val_loss: 0.1061 - val_accuracy: 0.9519\n",
      "Epoch 144/200\n",
      "10/10 [==============================] - 2s 240ms/step - loss: 0.0625 - accuracy: 0.9759 - val_loss: 0.1072 - val_accuracy: 0.9485\n",
      "Epoch 145/200\n",
      "10/10 [==============================] - 3s 253ms/step - loss: 0.0590 - accuracy: 0.9802 - val_loss: 0.1106 - val_accuracy: 0.9519\n",
      "Epoch 146/200\n",
      "10/10 [==============================] - 3s 244ms/step - loss: 0.0639 - accuracy: 0.9759 - val_loss: 0.1137 - val_accuracy: 0.9553\n",
      "Epoch 147/200\n",
      "10/10 [==============================] - 3s 252ms/step - loss: 0.0569 - accuracy: 0.9785 - val_loss: 0.1067 - val_accuracy: 0.9519\n",
      "Epoch 148/200\n",
      "10/10 [==============================] - 3s 248ms/step - loss: 0.0587 - accuracy: 0.9819 - val_loss: 0.1008 - val_accuracy: 0.9485\n",
      "Epoch 149/200\n",
      "10/10 [==============================] - 3s 255ms/step - loss: 0.0855 - accuracy: 0.9699 - val_loss: 0.1107 - val_accuracy: 0.9588\n",
      "Epoch 150/200\n",
      "10/10 [==============================] - 3s 253ms/step - loss: 0.0817 - accuracy: 0.9699 - val_loss: 0.0708 - val_accuracy: 0.9656\n",
      "Epoch 151/200\n",
      "10/10 [==============================] - 2s 240ms/step - loss: 0.0639 - accuracy: 0.9759 - val_loss: 0.0722 - val_accuracy: 0.9656\n",
      "Epoch 152/200\n",
      "10/10 [==============================] - 2s 242ms/step - loss: 0.0839 - accuracy: 0.9707 - val_loss: 0.0903 - val_accuracy: 0.9519\n",
      "Epoch 153/200\n",
      "10/10 [==============================] - 3s 256ms/step - loss: 0.0656 - accuracy: 0.9802 - val_loss: 0.1306 - val_accuracy: 0.9588\n",
      "Epoch 154/200\n",
      "10/10 [==============================] - 3s 250ms/step - loss: 0.0743 - accuracy: 0.9673 - val_loss: 0.1161 - val_accuracy: 0.9485\n",
      "Epoch 155/200\n",
      "10/10 [==============================] - 3s 258ms/step - loss: 0.0785 - accuracy: 0.9785 - val_loss: 0.1129 - val_accuracy: 0.9485\n",
      "Epoch 156/200\n",
      "10/10 [==============================] - 3s 244ms/step - loss: 0.0592 - accuracy: 0.9811 - val_loss: 0.1093 - val_accuracy: 0.9519\n",
      "Epoch 157/200\n",
      "10/10 [==============================] - 2s 240ms/step - loss: 0.0554 - accuracy: 0.9767 - val_loss: 0.1057 - val_accuracy: 0.9553\n",
      "Epoch 158/200\n",
      "10/10 [==============================] - 3s 248ms/step - loss: 0.0455 - accuracy: 0.9845 - val_loss: 0.1007 - val_accuracy: 0.9588\n",
      "Epoch 159/200\n",
      "10/10 [==============================] - 3s 244ms/step - loss: 0.0493 - accuracy: 0.9871 - val_loss: 0.1028 - val_accuracy: 0.9588\n",
      "Epoch 160/200\n",
      "10/10 [==============================] - 3s 252ms/step - loss: 0.0449 - accuracy: 0.9836 - val_loss: 0.1064 - val_accuracy: 0.9553\n",
      "Epoch 161/200\n",
      "10/10 [==============================] - 3s 255ms/step - loss: 0.0431 - accuracy: 0.9828 - val_loss: 0.1030 - val_accuracy: 0.9588\n",
      "Epoch 162/200\n",
      "10/10 [==============================] - 3s 251ms/step - loss: 0.0509 - accuracy: 0.9836 - val_loss: 0.1079 - val_accuracy: 0.9519\n",
      "Epoch 163/200\n",
      "10/10 [==============================] - 3s 269ms/step - loss: 0.0561 - accuracy: 0.9811 - val_loss: 0.1019 - val_accuracy: 0.9588\n",
      "Epoch 164/200\n",
      "10/10 [==============================] - 3s 250ms/step - loss: 0.0532 - accuracy: 0.9793 - val_loss: 0.0881 - val_accuracy: 0.9588\n",
      "Epoch 165/200\n",
      "10/10 [==============================] - 3s 260ms/step - loss: 0.0426 - accuracy: 0.9836 - val_loss: 0.0775 - val_accuracy: 0.9691\n",
      "Epoch 166/200\n",
      "10/10 [==============================] - 3s 247ms/step - loss: 0.0400 - accuracy: 0.9897 - val_loss: 0.0773 - val_accuracy: 0.9622\n",
      "Epoch 167/200\n",
      "10/10 [==============================] - 3s 249ms/step - loss: 0.0480 - accuracy: 0.9836 - val_loss: 0.0667 - val_accuracy: 0.9656\n",
      "Epoch 168/200\n",
      "10/10 [==============================] - 3s 252ms/step - loss: 0.0426 - accuracy: 0.9811 - val_loss: 0.0653 - val_accuracy: 0.9794\n",
      "Epoch 169/200\n",
      "10/10 [==============================] - 3s 323ms/step - loss: 0.0582 - accuracy: 0.9802 - val_loss: 0.0717 - val_accuracy: 0.9759\n",
      "Epoch 170/200\n",
      "10/10 [==============================] - 3s 247ms/step - loss: 0.0415 - accuracy: 0.9871 - val_loss: 0.0787 - val_accuracy: 0.9725\n",
      "Epoch 171/200\n",
      "10/10 [==============================] - 3s 246ms/step - loss: 0.0362 - accuracy: 0.9871 - val_loss: 0.0843 - val_accuracy: 0.9725\n",
      "Epoch 172/200\n",
      "10/10 [==============================] - 3s 251ms/step - loss: 0.0374 - accuracy: 0.9862 - val_loss: 0.0831 - val_accuracy: 0.9691\n",
      "Epoch 173/200\n",
      "10/10 [==============================] - 3s 252ms/step - loss: 0.0540 - accuracy: 0.9811 - val_loss: 0.0885 - val_accuracy: 0.9656\n",
      "Epoch 174/200\n",
      "10/10 [==============================] - 3s 244ms/step - loss: 0.0517 - accuracy: 0.9811 - val_loss: 0.0937 - val_accuracy: 0.9759\n",
      "Epoch 175/200\n",
      "10/10 [==============================] - 3s 246ms/step - loss: 0.0481 - accuracy: 0.9854 - val_loss: 0.1085 - val_accuracy: 0.9656\n",
      "Epoch 176/200\n",
      "10/10 [==============================] - 3s 334ms/step - loss: 0.0660 - accuracy: 0.9785 - val_loss: 0.1416 - val_accuracy: 0.9622\n",
      "Epoch 177/200\n",
      "10/10 [==============================] - 3s 244ms/step - loss: 0.0728 - accuracy: 0.9819 - val_loss: 0.1376 - val_accuracy: 0.9519\n",
      "Epoch 178/200\n",
      "10/10 [==============================] - 3s 252ms/step - loss: 0.0491 - accuracy: 0.9828 - val_loss: 0.1274 - val_accuracy: 0.9485\n",
      "Epoch 179/200\n",
      "10/10 [==============================] - 3s 250ms/step - loss: 0.0518 - accuracy: 0.9862 - val_loss: 0.1129 - val_accuracy: 0.9485\n",
      "Epoch 180/200\n",
      "10/10 [==============================] - 3s 246ms/step - loss: 0.0360 - accuracy: 0.9888 - val_loss: 0.0994 - val_accuracy: 0.9622\n",
      "Epoch 181/200\n",
      "10/10 [==============================] - 3s 247ms/step - loss: 0.0401 - accuracy: 0.9854 - val_loss: 0.0999 - val_accuracy: 0.9485\n",
      "Epoch 182/200\n",
      "10/10 [==============================] - 3s 327ms/step - loss: 0.0314 - accuracy: 0.9897 - val_loss: 0.1103 - val_accuracy: 0.9519\n",
      "Epoch 183/200\n",
      "10/10 [==============================] - 2s 240ms/step - loss: 0.0360 - accuracy: 0.9879 - val_loss: 0.1278 - val_accuracy: 0.9519\n",
      "Epoch 184/200\n",
      "10/10 [==============================] - 3s 249ms/step - loss: 0.0509 - accuracy: 0.9845 - val_loss: 0.1545 - val_accuracy: 0.9485\n",
      "Epoch 185/200\n",
      "10/10 [==============================] - 3s 251ms/step - loss: 0.0831 - accuracy: 0.9716 - val_loss: 0.1200 - val_accuracy: 0.9450\n",
      "Epoch 186/200\n",
      "10/10 [==============================] - 3s 256ms/step - loss: 0.0444 - accuracy: 0.9845 - val_loss: 0.1024 - val_accuracy: 0.9588\n",
      "Epoch 187/200\n",
      "10/10 [==============================] - 3s 259ms/step - loss: 0.0370 - accuracy: 0.9879 - val_loss: 0.0863 - val_accuracy: 0.9725\n",
      "Epoch 188/200\n",
      "10/10 [==============================] - 3s 279ms/step - loss: 0.0416 - accuracy: 0.9871 - val_loss: 0.0763 - val_accuracy: 0.9691\n",
      "Epoch 189/200\n",
      "10/10 [==============================] - 3s 278ms/step - loss: 0.0474 - accuracy: 0.9828 - val_loss: 0.0573 - val_accuracy: 0.9759\n",
      "Epoch 190/200\n",
      "10/10 [==============================] - 3s 299ms/step - loss: 0.0374 - accuracy: 0.9879 - val_loss: 0.0515 - val_accuracy: 0.9794\n",
      "Epoch 191/200\n",
      "10/10 [==============================] - 3s 265ms/step - loss: 0.0492 - accuracy: 0.9802 - val_loss: 0.0554 - val_accuracy: 0.9794\n",
      "Epoch 192/200\n",
      "10/10 [==============================] - 3s 289ms/step - loss: 0.0327 - accuracy: 0.9905 - val_loss: 0.0566 - val_accuracy: 0.9759\n",
      "Epoch 193/200\n",
      "10/10 [==============================] - 3s 284ms/step - loss: 0.0429 - accuracy: 0.9897 - val_loss: 0.0569 - val_accuracy: 0.9759\n",
      "Epoch 194/200\n",
      "10/10 [==============================] - 3s 257ms/step - loss: 0.0490 - accuracy: 0.9845 - val_loss: 0.0538 - val_accuracy: 0.9759\n",
      "Epoch 195/200\n",
      "10/10 [==============================] - 3s 285ms/step - loss: 0.0354 - accuracy: 0.9888 - val_loss: 0.0489 - val_accuracy: 0.9759\n",
      "Epoch 196/200\n",
      "10/10 [==============================] - 3s 263ms/step - loss: 0.0263 - accuracy: 0.9914 - val_loss: 0.0493 - val_accuracy: 0.9759\n",
      "Epoch 197/200\n",
      "10/10 [==============================] - 3s 259ms/step - loss: 0.0376 - accuracy: 0.9854 - val_loss: 0.0499 - val_accuracy: 0.9759\n",
      "Epoch 198/200\n",
      "10/10 [==============================] - 3s 264ms/step - loss: 0.0460 - accuracy: 0.9836 - val_loss: 0.0554 - val_accuracy: 0.9759\n",
      "Epoch 199/200\n",
      "10/10 [==============================] - 3s 279ms/step - loss: 0.0270 - accuracy: 0.9897 - val_loss: 0.0597 - val_accuracy: 0.9759\n",
      "Epoch 200/200\n",
      "10/10 [==============================] - 3s 254ms/step - loss: 0.0324 - accuracy: 0.9897 - val_loss: 0.0442 - val_accuracy: 0.9863\n"
     ]
    }
   ],
   "source": [
    "aug = ImageDataGenerator(rotation_range=20, zoom_range=0.2, horizontal_flip=True)\n",
    "hist = model.fit(aug.flow(X_train, Y_train, batch_size=128), batch_size=128, epochs=200, validation_data=(X_test, Y_test))"
   ]
  },
  {
   "cell_type": "code",
   "execution_count": 17,
   "id": "75f2c6f9",
   "metadata": {
    "execution": {
     "iopub.execute_input": "2022-12-06T19:19:15.768213Z",
     "iopub.status.busy": "2022-12-06T19:19:15.767681Z",
     "iopub.status.idle": "2022-12-06T19:19:16.183571Z",
     "shell.execute_reply": "2022-12-06T19:19:16.182239Z"
    },
    "papermill": {
     "duration": 0.584934,
     "end_time": "2022-12-06T19:19:16.187263",
     "exception": false,
     "start_time": "2022-12-06T19:19:15.602329",
     "status": "completed"
    },
    "tags": []
   },
   "outputs": [
    {
     "data": {
      "image/png": "[encoded data removed]",
      "text/plain": [
       "<Figure size 720x720 with 1 Axes>"
      ]
     },
     "metadata": {
      "needs_background": "light"
     },
     "output_type": "display_data"
    },
    {
     "data": {
      "image/png": "[encoded data removed]",
      "text/plain": [
       "<Figure size 720x720 with 1 Axes>"
      ]
     },
     "metadata": {
      "needs_background": "light"
     },
     "output_type": "display_data"
    }
   ],
   "source": [
    "figure = plt.figure(figsize=(10, 10))\n",
    "plt.plot(hist.history['accuracy'], label='Train_accuracy')\n",
    "plt.plot(hist.history['val_accuracy'], label='Test_accuracy')\n",
    "plt.title('Model Accuracy')\n",
    "plt.xlabel('Epochs')\n",
    "plt.ylabel('Accuracy')\n",
    "plt.legend(loc=\"upper left\")\n",
    "plt.show()\n",
    "\n",
    "figure2 = plt.figure(figsize=(10, 10))\n",
    "plt.plot(hist.history['loss'], label='Train_loss')\n",
    "plt.plot(hist.history['val_loss'], label='Test_loss')\n",
    "plt.title('Model Loss')\n",
    "plt.xlabel('Epochs')\n",
    "plt.ylabel('Loss')\n",
    "plt.legend(loc=\"upper left\")\n",
    "plt.show()"
   ]
  },
  {
   "cell_type": "code",
   "execution_count": 18,
   "id": "8b08395f",
   "metadata": {
    "execution": {
     "iopub.execute_input": "2022-12-06T19:19:16.509943Z",
     "iopub.status.busy": "2022-12-06T19:19:16.508672Z",
     "iopub.status.idle": "2022-12-06T19:19:16.888179Z",
     "shell.execute_reply": "2022-12-06T19:19:16.886195Z"
    },
    "papermill": {
     "duration": 0.547141,
     "end_time": "2022-12-06T19:19:16.892643",
     "exception": false,
     "start_time": "2022-12-06T19:19:16.345502",
     "status": "completed"
    },
    "tags": []
   },
   "outputs": [
    {
     "name": "stdout",
     "output_type": "stream",
     "text": [
      "10/10 [==============================] - 0s 21ms/step - loss: 0.0442 - accuracy: 0.9863\n",
      "Test Set Accuracy: 0.9862542748451233\n",
      "Test Set Loss: 0.04419432953000069\n"
     ]
    }
   ],
   "source": [
    "pred = model.evaluate(X_test, Y_test)\n",
    "print(f'Test Set Accuracy: {pred[1]}')\n",
    "print(f'Test Set Loss: {pred[0]}')"
   ]
  },
  {
   "cell_type": "code",
   "execution_count": 19,
   "id": "a044b509",
   "metadata": {
    "execution": {
     "iopub.execute_input": "2022-12-06T19:19:17.232491Z",
     "iopub.status.busy": "2022-12-06T19:19:17.230831Z",
     "iopub.status.idle": "2022-12-06T19:19:17.795018Z",
     "shell.execute_reply": "2022-12-06T19:19:17.793121Z"
    },
    "papermill": {
     "duration": 0.728471,
     "end_time": "2022-12-06T19:19:17.799196",
     "exception": false,
     "start_time": "2022-12-06T19:19:17.070725",
     "status": "completed"
    },
    "tags": []
   },
   "outputs": [
    {
     "name": "stdout",
     "output_type": "stream",
     "text": [
      "              precision    recall  f1-score   support\n",
      "\n",
      "           0       0.98      0.99      0.99       145\n",
      "           1       0.99      0.98      0.99       146\n",
      "\n",
      "    accuracy                           0.99       291\n",
      "   macro avg       0.99      0.99      0.99       291\n",
      "weighted avg       0.99      0.99      0.99       291\n",
      "\n"
     ]
    }
   ],
   "source": [
    "ypred = model.predict(X_test)\n",
    "ypred = np.argmax(ypred, axis=1)\n",
    "Y_test_pred = np.argmax(Y_test, axis=1)\n",
    "print(classification_report(Y_test_pred, ypred))"
   ]
  },
  {
   "cell_type": "code",
   "execution_count": 20,
   "id": "256583bd",
   "metadata": {
    "execution": {
     "iopub.execute_input": "2022-12-06T19:19:18.124489Z",
     "iopub.status.busy": "2022-12-06T19:19:18.123404Z",
     "iopub.status.idle": "2022-12-06T19:19:18.396173Z",
     "shell.execute_reply": "2022-12-06T19:19:18.394306Z"
    },
    "papermill": {
     "duration": 0.443281,
     "end_time": "2022-12-06T19:19:18.399477",
     "exception": false,
     "start_time": "2022-12-06T19:19:17.956196",
     "status": "completed"
    },
    "tags": []
   },
   "outputs": [
    {
     "data": {
      "text/plain": [
       "<AxesSubplot:>"
      ]
     },
     "execution_count": 20,
     "metadata": {},
     "output_type": "execute_result"
    },
    {
     "data": {
      "image/png": "[encoded data removed]",
      "text/plain": [
       "<Figure size 360x360 with 2 Axes>"
      ]
     },
     "metadata": {
      "needs_background": "light"
     },
     "output_type": "display_data"
    }
   ],
   "source": [
    "matrix = confusion_matrix(Y_test_pred, ypred)\n",
    "df_cm = pd.DataFrame(matrix, index=[0, 1], columns=[0, 1])\n",
    "figure = plt.figure(figsize=(5, 5))\n",
    "sns.heatmap(df_cm, annot=True, fmt='d')"
   ]
  },
  {
   "cell_type": "code",
   "execution_count": 21,
   "id": "5200da8b",
   "metadata": {
    "execution": {
     "iopub.execute_input": "2022-12-06T19:19:18.722028Z",
     "iopub.status.busy": "2022-12-06T19:19:18.721498Z",
     "iopub.status.idle": "2022-12-06T19:19:18.830624Z",
     "shell.execute_reply": "2022-12-06T19:19:18.829083Z"
    },
    "papermill": {
     "duration": 0.27403,
     "end_time": "2022-12-06T19:19:18.833806",
     "exception": false,
     "start_time": "2022-12-06T19:19:18.559776",
     "status": "completed"
    },
    "tags": []
   },
   "outputs": [],
   "source": [
    "model.save('Driver_Drowsiness_Detection.h5')"
   ]
  },
  {
   "cell_type": "code",
   "execution_count": 22,
   "id": "02f24f8b",
   "metadata": {
    "execution": {
     "iopub.execute_input": "2022-12-06T19:19:19.159373Z",
     "iopub.status.busy": "2022-12-06T19:19:19.158134Z",
     "iopub.status.idle": "2022-12-06T19:19:19.344266Z",
     "shell.execute_reply": "2022-12-06T19:19:19.342814Z"
    },
    "papermill": {
     "duration": 0.354662,
     "end_time": "2022-12-06T19:19:19.347648",
     "exception": false,
     "start_time": "2022-12-06T19:19:18.992986",
     "status": "completed"
    },
    "tags": []
   },
   "outputs": [],
   "source": [
    "labels = ['Closed', 'Open']\n",
    "img_closed1 = cv2.imread('driver_drowsiness_detection/closed_eye.jpg')\n",
    "img_closed2 = cv2.imread('driver_drowsiness_detection/closed_eye2.jpg')\n",
    "img_open1 = cv2.imread('driver_drowsiness_detection/open_eye.jpg')\n",
    "img_open2 = cv2.imread('driver_drowsiness_detection/open_eye2.jpg')\n",
    "\n",
    "img_closed1 = cv2.resize(img_closed1, (32, 32))\n",
    "img_closed2 = cv2.resize(img_closed2, (32, 32))\n",
    "img_open1 = cv2.resize(img_open1, (32, 32))\n",
    "img_open2 = cv2.resize(img_open2, (32, 32))\n",
    "\n",
    "img_closed1 = np.array(img_closed1)\n",
    "img_closed2 = np.array(img_closed2)\n",
    "img_open1 = np.array(img_open1)\n",
    "img_open2 = np.array(img_open2)\n",
    "\n",
    "img_closed1 = np.expand_dims(img_closed1, axis=0)\n",
    "img_closed2 = np.expand_dims(img_closed2, axis=0)\n",
    "img_open1 = np.expand_dims(img_open1, axis=0)\n",
    "img_open2 = np.expand_dims(img_open2, axis=0)"
   ]
  },
  {
   "cell_type": "code",
   "execution_count": 23,
   "id": "084ed1b0",
   "metadata": {
    "execution": {
     "iopub.execute_input": "2022-12-06T19:19:19.751593Z",
     "iopub.status.busy": "2022-12-06T19:19:19.751136Z",
     "iopub.status.idle": "2022-12-06T19:19:20.072300Z",
     "shell.execute_reply": "2022-12-06T19:19:20.070420Z"
    },
    "papermill": {
     "duration": 0.485708,
     "end_time": "2022-12-06T19:19:20.075657",
     "exception": false,
     "start_time": "2022-12-06T19:19:19.589949",
     "status": "completed"
    },
    "tags": []
   },
   "outputs": [],
   "source": [
    "ypred_closed1 = model.predict(img_closed1)\n",
    "ypred_closed2 = model.predict(img_closed2)\n",
    "ypred_open1 = model.predict(img_open1)\n",
    "ypred_open2 = model.predict(img_open2)"
   ]
  },
  {
   "cell_type": "code",
   "execution_count": 24,
   "id": "2dbe02df",
   "metadata": {
    "execution": {
     "iopub.execute_input": "2022-12-06T19:19:20.412729Z",
     "iopub.status.busy": "2022-12-06T19:19:20.412225Z",
     "iopub.status.idle": "2022-12-06T19:19:20.525737Z",
     "shell.execute_reply": "2022-12-06T19:19:20.523820Z"
    },
    "papermill": {
     "duration": 0.281763,
     "end_time": "2022-12-06T19:19:20.529575",
     "exception": false,
     "start_time": "2022-12-06T19:19:20.247812",
     "status": "completed"
    },
    "tags": []
   },
   "outputs": [
    {
     "data": {
      "image/png": "[encoded data removed]",
      "text/plain": [
       "<Figure size 144x144 with 1 Axes>"
      ]
     },
     "metadata": {
      "needs_background": "light"
     },
     "output_type": "display_data"
    }
   ],
   "source": [
    "figure = plt.figure(figsize=(2, 2))\n",
    "img_closed1 = np.squeeze(img_closed1, axis=0)\n",
    "plt.imshow(img_closed1)\n",
    "plt.axis('off')\n",
    "plt.title(f'Prediction by the model: {labels[np.argmax(ypred_closed1[0], axis=0)]}')\n",
    "plt.show()"
   ]
  },
  {
   "cell_type": "code",
   "execution_count": 25,
   "id": "5f00c8ba",
   "metadata": {
    "execution": {
     "iopub.execute_input": "2022-12-06T19:19:20.909648Z",
     "iopub.status.busy": "2022-12-06T19:19:20.908329Z",
     "iopub.status.idle": "2022-12-06T19:19:21.020300Z",
     "shell.execute_reply": "2022-12-06T19:19:21.018183Z"
    },
    "papermill": {
     "duration": 0.311414,
     "end_time": "2022-12-06T19:19:21.026263",
     "exception": false,
     "start_time": "2022-12-06T19:19:20.714849",
     "status": "completed"
    },
    "tags": []
   },
   "outputs": [
    {
     "data": {
      "image/png": "[encoded data removed]",
      "text/plain": [
       "<Figure size 144x144 with 1 Axes>"
      ]
     },
     "metadata": {
      "needs_background": "light"
     },
     "output_type": "display_data"
    }
   ],
   "source": [
    "figure = plt.figure(figsize=(2, 2))\n",
    "img_closed2 = np.squeeze(img_closed2, axis=0)\n",
    "plt.imshow(img_closed2)\n",
    "plt.axis('off')\n",
    "plt.title(f'Prediction by the model: {labels[np.argmax(ypred_closed2[0], axis=0)]}')\n",
    "plt.show()"
   ]
  },
  {
   "cell_type": "code",
   "execution_count": 26,
   "id": "a959c9da",
   "metadata": {
    "execution": {
     "iopub.execute_input": "2022-12-06T19:19:21.380056Z",
     "iopub.status.busy": "2022-12-06T19:19:21.379554Z",
     "iopub.status.idle": "2022-12-06T19:19:21.811487Z",
     "shell.execute_reply": "2022-12-06T19:19:21.809212Z"
    },
    "papermill": {
     "duration": 0.602354,
     "end_time": "2022-12-06T19:19:21.816642",
     "exception": false,
     "start_time": "2022-12-06T19:19:21.214288",
     "status": "completed"
    },
    "tags": []
   },
   "outputs": [
    {
     "data": {
      "image/png": "[encoded data removed]",
      "text/plain": [
       "<Figure size 144x144 with 1 Axes>"
      ]
     },
     "metadata": {
      "needs_background": "light"
     },
     "output_type": "display_data"
    }
   ],
   "source": [
    "figure = plt.figure(figsize=(2, 2))\n",
    "img_open1 = np.squeeze(img_open1, axis=0)\n",
    "plt.imshow(img_open1)\n",
    "plt.axis('off')\n",
    "plt.title(f'Prediction by the model: {labels[np.argmax(ypred_open1[0], axis=0)]}')\n",
    "plt.show()"
   ]
  },
  {
   "cell_type": "code",
   "execution_count": 27,
   "id": "8a23c022",
   "metadata": {
    "execution": {
     "iopub.execute_input": "2022-12-06T19:19:22.174277Z",
     "iopub.status.busy": "2022-12-06T19:19:22.173796Z",
     "iopub.status.idle": "2022-12-06T19:19:22.278825Z",
     "shell.execute_reply": "2022-12-06T19:19:22.276565Z"
    },
    "papermill": {
     "duration": 0.27343,
     "end_time": "2022-12-06T19:19:22.283958",
     "exception": false,
     "start_time": "2022-12-06T19:19:22.010528",
     "status": "completed"
    },
    "tags": []
   },
   "outputs": [
    {
     "data": {
      "image/png": "[encoded data removed]",
      "text/plain": [
       "<Figure size 144x144 with 1 Axes>"
      ]
     },
     "metadata": {
      "needs_background": "light"
     },
     "output_type": "display_data"
    }
   ],
   "source": [
    "figure = plt.figure(figsize=(2, 2))\n",
    "img_open2 = np.squeeze(img_open2, axis=0)\n",
    "plt.imshow(img_open2)\n",
    "plt.axis('off')\n",
    "plt.title(f'Prediction by the model: {labels[np.argmax(ypred_open2[0], axis=0)]}')\n",
    "plt.show()"
   ]
  },
  {
   "cell_type": "code",
   "execution_count": null,
   "id": "cc7d52ad",
   "metadata": {
    "papermill": {
     "duration": 0.161128,
     "end_time": "2022-12-06T19:19:22.633856",
     "exception": false,
     "start_time": "2022-12-06T19:19:22.472728",
     "status": "completed"
    },
    "tags": []
   },
   "outputs": [],
   "source": []
  }
 ],
 "metadata": {
  "kernelspec": {
   "display_name": "Python 3",
   "language": "python",
   "name": "python3"
  },
  "language_info": {
   "codemirror_mode": {
    "name": "ipython",
    "version": 3
   },
   "file_extension": ".py",
   "mimetype": "text/x-python",
   "name": "python",
   "nbconvert_exporter": "python",
   "pygments_lexer": "ipython3",
   "version": "3.7.12"
  },
  "papermill": {
   "default_parameters": {},
   "duration": 937.701725,
   "end_time": "2022-12-06T19:19:26.008822",
   "environment_variables": {},
   "exception": null,
   "input_path": "__notebook__.ipynb",
   "output_path": "__notebook__.ipynb",
   "parameters": {},
   "start_time": "2022-12-06T19:03:48.307097",
   "version": "2.3.4"
  }
 },
 "nbformat": 4,
 "nbformat_minor": 5
}
